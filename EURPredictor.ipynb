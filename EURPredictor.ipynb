{
 "cells": [
  {
   "cell_type": "markdown",
   "metadata": {},
   "source": [
    "# EUR Predictor"
   ]
  },
  {
   "cell_type": "markdown",
   "metadata": {},
   "source": [
    "Directory contains minute by minute prices of EUR/USD for the past 10 years (with the exception of 2014).  \n",
    "\n",
    "This Notebook will build a RNN Model to predict the movement of the EUR prices based of historical minute by minute data.\n",
    "\n",
    "Training and testing is easily separated by picking a year for training and another year for testing.  This, however, is not a great practice as training and testing sets are not equaly and randomly represented.  You will need to change the code to get better representation of training and testing.\n",
    "\n",
    "For the purposes of playing around, you can play with Hyperparameters to design your model.\n",
    "\n"
   ]
  },
  {
   "cell_type": "markdown",
   "metadata": {},
   "source": [
    "### Import the  libraries"
   ]
  },
  {
   "cell_type": "code",
   "execution_count": 2,
   "metadata": {},
   "outputs": [],
   "source": [
    "import numpy as np\n",
    "import matplotlib.pyplot as plt\n",
    "import pandas as pd\n"
   ]
  },
  {
   "cell_type": "markdown",
   "metadata": {},
   "source": [
    "### Defining Hyperparameters"
   ]
  },
  {
   "cell_type": "code",
   "execution_count": 3,
   "metadata": {},
   "outputs": [],
   "source": [
    "# Define the sequence of minutes you want to train on \n",
    "SEQUENCE_TIMEPOINTS = 20  # 5-50   \n",
    "\n",
    "# Define how many LSTM Cells you need to have per each Layer\n",
    "LSTM_UNITS = 40 \n",
    "\n",
    "# Single Layer will be an LSTM Layer, combined with Dropout layer\n",
    "# Define how many of these you want to have stacked (minimum of 2 needed)\n",
    "LSTM_LAYERS = 4\n",
    "DROPOUT_RATE = 0.2\n",
    "\n",
    "EPOCHS = 100\n",
    "BATCH_SIZE = 32\n",
    "\n",
    "OPTIMIZER = 'adam'\n",
    "LOSS = 'mean_squared_error'\n",
    "\n",
    "# Training and Testing\n",
    "# Pick a year for Training and a year for Testing.  This is just a suggested easy way\n",
    "# to demonstrate the process.  To build a better model, you will need to mix things around\n",
    "# and randomly chose testing sequences (maybe with a mod function), this will be a better \n",
    "# sampling for both training and test data\n",
    "TRAINING_YEAR='2017'\n",
    "TESTING_YEAR='2018'"
   ]
  },
  {
   "cell_type": "markdown",
   "metadata": {},
   "source": [
    "### Load the data"
   ]
  },
  {
   "cell_type": "markdown",
   "metadata": {},
   "source": [
    "Data is orgainized in csv files marked by a year, containing minute by minute price information"
   ]
  },
  {
   "cell_type": "code",
   "execution_count": 4,
   "metadata": {},
   "outputs": [],
   "source": [
    "dataset_train = pd.read_csv(TRAINING_YEAR+'.csv')\n",
    "\n",
    "# Restrict the dataset to either:  just prices\n",
    "training_set = dataset_train.iloc[:,2:3]\n",
    "\n",
    "# or Date, time, and pricess, if you want to train on all 3\n",
    "#   this is if you want to derive some good info from the date/time like:\n",
    "#    month of the year, time of day, day in the week, weekend or not, etc\n",
    "# training_set = dataset_train.iloc[:,2:3]\n"
   ]
  },
  {
   "cell_type": "code",
   "execution_count": 5,
   "metadata": {},
   "outputs": [
    {
     "data": {
      "text/html": [
       "<div>\n",
       "<style scoped>\n",
       "    .dataframe tbody tr th:only-of-type {\n",
       "        vertical-align: middle;\n",
       "    }\n",
       "\n",
       "    .dataframe tbody tr th {\n",
       "        vertical-align: top;\n",
       "    }\n",
       "\n",
       "    .dataframe thead th {\n",
       "        text-align: right;\n",
       "    }\n",
       "</style>\n",
       "<table border=\"1\" class=\"dataframe\">\n",
       "  <thead>\n",
       "    <tr style=\"text-align: right;\">\n",
       "      <th></th>\n",
       "      <th>OpenBid</th>\n",
       "    </tr>\n",
       "  </thead>\n",
       "  <tbody>\n",
       "    <tr>\n",
       "      <th>0</th>\n",
       "      <td>1.05155</td>\n",
       "    </tr>\n",
       "    <tr>\n",
       "      <th>1</th>\n",
       "      <td>1.05209</td>\n",
       "    </tr>\n",
       "    <tr>\n",
       "      <th>2</th>\n",
       "      <td>1.05177</td>\n",
       "    </tr>\n",
       "    <tr>\n",
       "      <th>3</th>\n",
       "      <td>1.05188</td>\n",
       "    </tr>\n",
       "    <tr>\n",
       "      <th>4</th>\n",
       "      <td>1.05196</td>\n",
       "    </tr>\n",
       "    <tr>\n",
       "      <th>5</th>\n",
       "      <td>1.05196</td>\n",
       "    </tr>\n",
       "    <tr>\n",
       "      <th>6</th>\n",
       "      <td>1.05205</td>\n",
       "    </tr>\n",
       "    <tr>\n",
       "      <th>7</th>\n",
       "      <td>1.05210</td>\n",
       "    </tr>\n",
       "    <tr>\n",
       "      <th>8</th>\n",
       "      <td>1.05208</td>\n",
       "    </tr>\n",
       "    <tr>\n",
       "      <th>9</th>\n",
       "      <td>1.05208</td>\n",
       "    </tr>\n",
       "    <tr>\n",
       "      <th>10</th>\n",
       "      <td>1.05212</td>\n",
       "    </tr>\n",
       "    <tr>\n",
       "      <th>11</th>\n",
       "      <td>1.05213</td>\n",
       "    </tr>\n",
       "    <tr>\n",
       "      <th>12</th>\n",
       "      <td>1.05209</td>\n",
       "    </tr>\n",
       "    <tr>\n",
       "      <th>13</th>\n",
       "      <td>1.05206</td>\n",
       "    </tr>\n",
       "    <tr>\n",
       "      <th>14</th>\n",
       "      <td>1.05213</td>\n",
       "    </tr>\n",
       "    <tr>\n",
       "      <th>15</th>\n",
       "      <td>1.05212</td>\n",
       "    </tr>\n",
       "    <tr>\n",
       "      <th>16</th>\n",
       "      <td>1.05211</td>\n",
       "    </tr>\n",
       "    <tr>\n",
       "      <th>17</th>\n",
       "      <td>1.05206</td>\n",
       "    </tr>\n",
       "    <tr>\n",
       "      <th>18</th>\n",
       "      <td>1.05176</td>\n",
       "    </tr>\n",
       "    <tr>\n",
       "      <th>19</th>\n",
       "      <td>1.05172</td>\n",
       "    </tr>\n",
       "    <tr>\n",
       "      <th>20</th>\n",
       "      <td>1.05173</td>\n",
       "    </tr>\n",
       "    <tr>\n",
       "      <th>21</th>\n",
       "      <td>1.05176</td>\n",
       "    </tr>\n",
       "    <tr>\n",
       "      <th>22</th>\n",
       "      <td>1.05183</td>\n",
       "    </tr>\n",
       "    <tr>\n",
       "      <th>23</th>\n",
       "      <td>1.05176</td>\n",
       "    </tr>\n",
       "    <tr>\n",
       "      <th>24</th>\n",
       "      <td>1.05185</td>\n",
       "    </tr>\n",
       "    <tr>\n",
       "      <th>25</th>\n",
       "      <td>1.05185</td>\n",
       "    </tr>\n",
       "    <tr>\n",
       "      <th>26</th>\n",
       "      <td>1.05180</td>\n",
       "    </tr>\n",
       "    <tr>\n",
       "      <th>27</th>\n",
       "      <td>1.05178</td>\n",
       "    </tr>\n",
       "    <tr>\n",
       "      <th>28</th>\n",
       "      <td>1.05185</td>\n",
       "    </tr>\n",
       "    <tr>\n",
       "      <th>29</th>\n",
       "      <td>1.05184</td>\n",
       "    </tr>\n",
       "    <tr>\n",
       "      <th>...</th>\n",
       "      <td>...</td>\n",
       "    </tr>\n",
       "    <tr>\n",
       "      <th>371605</th>\n",
       "      <td>1.19958</td>\n",
       "    </tr>\n",
       "    <tr>\n",
       "      <th>371606</th>\n",
       "      <td>1.19963</td>\n",
       "    </tr>\n",
       "    <tr>\n",
       "      <th>371607</th>\n",
       "      <td>1.19981</td>\n",
       "    </tr>\n",
       "    <tr>\n",
       "      <th>371608</th>\n",
       "      <td>1.19974</td>\n",
       "    </tr>\n",
       "    <tr>\n",
       "      <th>371609</th>\n",
       "      <td>1.19963</td>\n",
       "    </tr>\n",
       "    <tr>\n",
       "      <th>371610</th>\n",
       "      <td>1.19964</td>\n",
       "    </tr>\n",
       "    <tr>\n",
       "      <th>371611</th>\n",
       "      <td>1.19964</td>\n",
       "    </tr>\n",
       "    <tr>\n",
       "      <th>371612</th>\n",
       "      <td>1.19974</td>\n",
       "    </tr>\n",
       "    <tr>\n",
       "      <th>371613</th>\n",
       "      <td>1.19978</td>\n",
       "    </tr>\n",
       "    <tr>\n",
       "      <th>371614</th>\n",
       "      <td>1.19986</td>\n",
       "    </tr>\n",
       "    <tr>\n",
       "      <th>371615</th>\n",
       "      <td>1.19987</td>\n",
       "    </tr>\n",
       "    <tr>\n",
       "      <th>371616</th>\n",
       "      <td>1.19988</td>\n",
       "    </tr>\n",
       "    <tr>\n",
       "      <th>371617</th>\n",
       "      <td>1.19985</td>\n",
       "    </tr>\n",
       "    <tr>\n",
       "      <th>371618</th>\n",
       "      <td>1.19978</td>\n",
       "    </tr>\n",
       "    <tr>\n",
       "      <th>371619</th>\n",
       "      <td>1.19969</td>\n",
       "    </tr>\n",
       "    <tr>\n",
       "      <th>371620</th>\n",
       "      <td>1.19968</td>\n",
       "    </tr>\n",
       "    <tr>\n",
       "      <th>371621</th>\n",
       "      <td>1.19966</td>\n",
       "    </tr>\n",
       "    <tr>\n",
       "      <th>371622</th>\n",
       "      <td>1.19966</td>\n",
       "    </tr>\n",
       "    <tr>\n",
       "      <th>371623</th>\n",
       "      <td>1.19960</td>\n",
       "    </tr>\n",
       "    <tr>\n",
       "      <th>371624</th>\n",
       "      <td>1.19953</td>\n",
       "    </tr>\n",
       "    <tr>\n",
       "      <th>371625</th>\n",
       "      <td>1.19937</td>\n",
       "    </tr>\n",
       "    <tr>\n",
       "      <th>371626</th>\n",
       "      <td>1.19932</td>\n",
       "    </tr>\n",
       "    <tr>\n",
       "      <th>371627</th>\n",
       "      <td>1.19927</td>\n",
       "    </tr>\n",
       "    <tr>\n",
       "      <th>371628</th>\n",
       "      <td>1.19933</td>\n",
       "    </tr>\n",
       "    <tr>\n",
       "      <th>371629</th>\n",
       "      <td>1.19962</td>\n",
       "    </tr>\n",
       "    <tr>\n",
       "      <th>371630</th>\n",
       "      <td>1.19972</td>\n",
       "    </tr>\n",
       "    <tr>\n",
       "      <th>371631</th>\n",
       "      <td>1.19985</td>\n",
       "    </tr>\n",
       "    <tr>\n",
       "      <th>371632</th>\n",
       "      <td>1.19969</td>\n",
       "    </tr>\n",
       "    <tr>\n",
       "      <th>371633</th>\n",
       "      <td>1.20009</td>\n",
       "    </tr>\n",
       "    <tr>\n",
       "      <th>371634</th>\n",
       "      <td>1.19982</td>\n",
       "    </tr>\n",
       "  </tbody>\n",
       "</table>\n",
       "<p>371635 rows × 1 columns</p>\n",
       "</div>"
      ],
      "text/plain": [
       "        OpenBid\n",
       "0       1.05155\n",
       "1       1.05209\n",
       "2       1.05177\n",
       "3       1.05188\n",
       "4       1.05196\n",
       "5       1.05196\n",
       "6       1.05205\n",
       "7       1.05210\n",
       "8       1.05208\n",
       "9       1.05208\n",
       "10      1.05212\n",
       "11      1.05213\n",
       "12      1.05209\n",
       "13      1.05206\n",
       "14      1.05213\n",
       "15      1.05212\n",
       "16      1.05211\n",
       "17      1.05206\n",
       "18      1.05176\n",
       "19      1.05172\n",
       "20      1.05173\n",
       "21      1.05176\n",
       "22      1.05183\n",
       "23      1.05176\n",
       "24      1.05185\n",
       "25      1.05185\n",
       "26      1.05180\n",
       "27      1.05178\n",
       "28      1.05185\n",
       "29      1.05184\n",
       "...         ...\n",
       "371605  1.19958\n",
       "371606  1.19963\n",
       "371607  1.19981\n",
       "371608  1.19974\n",
       "371609  1.19963\n",
       "371610  1.19964\n",
       "371611  1.19964\n",
       "371612  1.19974\n",
       "371613  1.19978\n",
       "371614  1.19986\n",
       "371615  1.19987\n",
       "371616  1.19988\n",
       "371617  1.19985\n",
       "371618  1.19978\n",
       "371619  1.19969\n",
       "371620  1.19968\n",
       "371621  1.19966\n",
       "371622  1.19966\n",
       "371623  1.19960\n",
       "371624  1.19953\n",
       "371625  1.19937\n",
       "371626  1.19932\n",
       "371627  1.19927\n",
       "371628  1.19933\n",
       "371629  1.19962\n",
       "371630  1.19972\n",
       "371631  1.19985\n",
       "371632  1.19969\n",
       "371633  1.20009\n",
       "371634  1.19982\n",
       "\n",
       "[371635 rows x 1 columns]"
      ]
     },
     "execution_count": 5,
     "metadata": {},
     "output_type": "execute_result"
    }
   ],
   "source": [
    "training_set"
   ]
  },
  {
   "cell_type": "markdown",
   "metadata": {},
   "source": [
    "### Feature scaling"
   ]
  },
  {
   "cell_type": "markdown",
   "metadata": {},
   "source": [
    "Best thing is to scale the prices from 0 to 1"
   ]
  },
  {
   "cell_type": "code",
   "execution_count": 6,
   "metadata": {},
   "outputs": [],
   "source": [
    "from sklearn.preprocessing import MinMaxScaler\n",
    "sc = MinMaxScaler(feature_range = (0,1))\n",
    "training_set_scaled =sc.fit_transform(training_set)"
   ]
  },
  {
   "cell_type": "code",
   "execution_count": 7,
   "metadata": {},
   "outputs": [
    {
     "data": {
      "text/plain": [
       "array([[0.09803585],\n",
       "       [0.1011281 ],\n",
       "       [0.09929565],\n",
       "       ...,\n",
       "       [0.9463437 ],\n",
       "       [0.94863426],\n",
       "       [0.94708813]])"
      ]
     },
     "execution_count": 7,
     "metadata": {},
     "output_type": "execute_result"
    }
   ],
   "source": [
    "training_set_scaled "
   ]
  },
  {
   "cell_type": "markdown",
   "metadata": {},
   "source": [
    "### Creating a data structure for training"
   ]
  },
  {
   "cell_type": "markdown",
   "metadata": {},
   "source": [
    "Each data point will have previous number of points for RNN training"
   ]
  },
  {
   "cell_type": "code",
   "execution_count": 8,
   "metadata": {},
   "outputs": [],
   "source": [
    "X_train = []\n",
    "y_train = []\n",
    "for i in range(SEQUENCE_TIMEPOINTS, len(training_set_scaled)):\n",
    "    X_train.append(training_set_scaled[i-SEQUENCE_TIMEPOINTS:i,0])\n",
    "    y_train.append(training_set_scaled[i,0])\n",
    "X_train = np.array(X_train)\n",
    "y_train = np.array(y_train)\n",
    "\n",
    "X_train = np.reshape(X_train, (X_train.shape[0], X_train.shape[1], 1))"
   ]
  },
  {
   "cell_type": "markdown",
   "metadata": {},
   "source": [
    "### Build the RNN"
   ]
  },
  {
   "cell_type": "code",
   "execution_count": 9,
   "metadata": {},
   "outputs": [
    {
     "name": "stderr",
     "output_type": "stream",
     "text": [
      "Using TensorFlow backend.\n"
     ]
    }
   ],
   "source": [
    "from keras.models import Sequential\n",
    "from keras.layers import Dense\n",
    "from keras.layers import LSTM\n",
    "from keras.layers import Dropout\n"
   ]
  },
  {
   "cell_type": "code",
   "execution_count": 10,
   "metadata": {},
   "outputs": [],
   "source": [
    "regressor = Sequential()\n",
    "\n",
    "# Layer 1\n",
    "regressor.add(LSTM(units=LSTM_UNITS, return_sequences=True, input_shape = (X_train.shape[1], 1)))\n",
    "regressor.add(Dropout(DROPOUT_RATE))\n",
    "\n",
    "# Layer 2 to n-1\n",
    "for i in range(LSTM_LAYERS-2):\n",
    "    regressor.add(LSTM(units=LSTM_UNITS, return_sequences=True))\n",
    "    regressor.add(Dropout(DROPOUT_RATE))\n",
    "\n",
    "# Last LSTM Layer\n",
    "regressor.add(LSTM(units=LSTM_UNITS))\n",
    "regressor.add(Dropout(DROPOUT_RATE))\n",
    "\n",
    "# Last layer to predict -  Only one Item to predict - EURO price at time\n",
    "regressor.add(Dense(units = 1))"
   ]
  },
  {
   "cell_type": "markdown",
   "metadata": {},
   "source": [
    "#### Show what model looks like"
   ]
  },
  {
   "cell_type": "code",
   "execution_count": 11,
   "metadata": {},
   "outputs": [
    {
     "name": "stdout",
     "output_type": "stream",
     "text": [
      "_________________________________________________________________\n",
      "Layer (type)                 Output Shape              Param #   \n",
      "=================================================================\n",
      "lstm_1 (LSTM)                (None, 20, 40)            6720      \n",
      "_________________________________________________________________\n",
      "dropout_1 (Dropout)          (None, 20, 40)            0         \n",
      "_________________________________________________________________\n",
      "lstm_2 (LSTM)                (None, 20, 40)            12960     \n",
      "_________________________________________________________________\n",
      "dropout_2 (Dropout)          (None, 20, 40)            0         \n",
      "_________________________________________________________________\n",
      "lstm_3 (LSTM)                (None, 20, 40)            12960     \n",
      "_________________________________________________________________\n",
      "dropout_3 (Dropout)          (None, 20, 40)            0         \n",
      "_________________________________________________________________\n",
      "lstm_4 (LSTM)                (None, 40)                12960     \n",
      "_________________________________________________________________\n",
      "dropout_4 (Dropout)          (None, 40)                0         \n",
      "_________________________________________________________________\n",
      "dense_1 (Dense)              (None, 1)                 41        \n",
      "=================================================================\n",
      "Total params: 45,641\n",
      "Trainable params: 45,641\n",
      "Non-trainable params: 0\n",
      "_________________________________________________________________\n"
     ]
    }
   ],
   "source": [
    "regressor.summary()"
   ]
  },
  {
   "cell_type": "markdown",
   "metadata": {},
   "source": [
    "#### Set some hyperparameters and train "
   ]
  },
  {
   "cell_type": "code",
   "execution_count": 12,
   "metadata": {},
   "outputs": [
    {
     "name": "stdout",
     "output_type": "stream",
     "text": [
      "Epoch 1/100\n",
      "371615/371615 [==============================] - 437s 1ms/step - loss: 0.0014\n",
      "Epoch 2/100\n",
      "371615/371615 [==============================] - 495s 1ms/step - loss: 6.7925e-04\n",
      "Epoch 3/100\n",
      "371615/371615 [==============================] - 509s 1ms/step - loss: 6.4911e-04\n",
      "Epoch 4/100\n",
      "371615/371615 [==============================] - 486s 1ms/step - loss: 6.3022e-04\n",
      "Epoch 5/100\n",
      "371615/371615 [==============================] - 471s 1ms/step - loss: 6.1978e-04\n",
      "Epoch 6/100\n",
      "371615/371615 [==============================] - 466s 1ms/step - loss: 6.1445e-04\n",
      "Epoch 7/100\n",
      "371615/371615 [==============================] - 466s 1ms/step - loss: 6.1018e-04\n",
      "Epoch 8/100\n",
      "371615/371615 [==============================] - 462s 1ms/step - loss: 6.0197e-04\n",
      "Epoch 9/100\n",
      "371615/371615 [==============================] - 464s 1ms/step - loss: 5.9940e-04\n",
      "Epoch 10/100\n",
      "371615/371615 [==============================] - 461s 1ms/step - loss: 5.9685e-04\n",
      "Epoch 11/100\n",
      "371615/371615 [==============================] - 463s 1ms/step - loss: 5.9557e-04\n",
      "Epoch 12/100\n",
      "371615/371615 [==============================] - 462s 1ms/step - loss: 5.9180e-04\n",
      "Epoch 13/100\n",
      "371615/371615 [==============================] - 463s 1ms/step - loss: 5.8796e-04\n",
      "Epoch 14/100\n",
      "371615/371615 [==============================] - 462s 1ms/step - loss: 5.9009e-04\n",
      "Epoch 15/100\n",
      "371615/371615 [==============================] - 465s 1ms/step - loss: 5.8364e-04\n",
      "Epoch 16/100\n",
      "371615/371615 [==============================] - 462s 1ms/step - loss: 5.8599e-04\n",
      "Epoch 17/100\n",
      "371615/371615 [==============================] - 462s 1ms/step - loss: 5.8456e-04\n",
      "Epoch 18/100\n",
      "371615/371615 [==============================] - 462s 1ms/step - loss: 5.8328e-04\n",
      "Epoch 19/100\n",
      "371615/371615 [==============================] - 463s 1ms/step - loss: 5.7867e-04\n",
      "Epoch 20/100\n",
      "371615/371615 [==============================] - 462s 1ms/step - loss: 5.7894e-04\n",
      "Epoch 21/100\n",
      "371615/371615 [==============================] - 464s 1ms/step - loss: 5.7840e-04\n",
      "Epoch 22/100\n",
      "371615/371615 [==============================] - 463s 1ms/step - loss: 5.7625e-04\n",
      "Epoch 23/100\n",
      "371615/371615 [==============================] - 465s 1ms/step - loss: 5.7854e-04\n",
      "Epoch 24/100\n",
      "371615/371615 [==============================] - 462s 1ms/step - loss: 5.7602e-04\n",
      "Epoch 25/100\n",
      "371615/371615 [==============================] - 468s 1ms/step - loss: 5.7632e-04\n",
      "Epoch 26/100\n",
      "371615/371615 [==============================] - 473s 1ms/step - loss: 5.7442e-04\n",
      "Epoch 27/100\n",
      "371615/371615 [==============================] - 465s 1ms/step - loss: 5.7629e-04\n",
      "Epoch 28/100\n",
      "371615/371615 [==============================] - 465s 1ms/step - loss: 5.7523e-04\n",
      "Epoch 29/100\n",
      "371615/371615 [==============================] - 464s 1ms/step - loss: 5.7447e-04\n",
      "Epoch 30/100\n",
      "371615/371615 [==============================] - 466s 1ms/step - loss: 5.7319e-04\n",
      "Epoch 31/100\n",
      "371615/371615 [==============================] - 466s 1ms/step - loss: 5.6980e-04\n",
      "Epoch 32/100\n",
      "371615/371615 [==============================] - 470s 1ms/step - loss: 5.6997e-04\n",
      "Epoch 33/100\n",
      "371615/371615 [==============================] - 465s 1ms/step - loss: 5.7138e-04\n",
      "Epoch 34/100\n",
      "371615/371615 [==============================] - 466s 1ms/step - loss: 5.7299e-04\n",
      "Epoch 35/100\n",
      "371615/371615 [==============================] - 467s 1ms/step - loss: 5.6858e-04\n",
      "Epoch 36/100\n",
      "371615/371615 [==============================] - 462s 1ms/step - loss: 5.6800e-04\n",
      "Epoch 37/100\n",
      "371615/371615 [==============================] - 467s 1ms/step - loss: 5.7294e-04\n",
      "Epoch 38/100\n",
      "371615/371615 [==============================] - 467s 1ms/step - loss: 5.6805e-04\n",
      "Epoch 39/100\n",
      "371615/371615 [==============================] - 461s 1ms/step - loss: 5.7197e-04\n",
      "Epoch 40/100\n",
      "371615/371615 [==============================] - 463s 1ms/step - loss: 5.6701e-04\n",
      "Epoch 41/100\n",
      "371615/371615 [==============================] - 464s 1ms/step - loss: 5.6863e-04\n",
      "Epoch 42/100\n",
      "371615/371615 [==============================] - 463s 1ms/step - loss: 5.6785e-04\n",
      "Epoch 43/100\n",
      "371615/371615 [==============================] - 461s 1ms/step - loss: 5.6938e-04\n",
      "Epoch 44/100\n",
      "371615/371615 [==============================] - 463s 1ms/step - loss: 5.6497e-04\n",
      "Epoch 45/100\n",
      "371615/371615 [==============================] - 461s 1ms/step - loss: 5.6664e-04\n",
      "Epoch 46/100\n",
      "371615/371615 [==============================] - 469s 1ms/step - loss: 5.6710e-04\n",
      "Epoch 47/100\n",
      "371615/371615 [==============================] - 463s 1ms/step - loss: 5.6715e-04\n",
      "Epoch 48/100\n",
      "371615/371615 [==============================] - 465s 1ms/step - loss: 5.6507e-04\n",
      "Epoch 49/100\n",
      "371615/371615 [==============================] - 464s 1ms/step - loss: 5.7010e-04\n",
      "Epoch 50/100\n",
      "371615/371615 [==============================] - 464s 1ms/step - loss: 5.6743e-04\n",
      "Epoch 51/100\n",
      "371615/371615 [==============================] - 463s 1ms/step - loss: 5.6747e-04\n",
      "Epoch 52/100\n",
      "371615/371615 [==============================] - 465s 1ms/step - loss: 5.6491e-04\n",
      "Epoch 53/100\n",
      "371615/371615 [==============================] - 464s 1ms/step - loss: 5.6426e-04\n",
      "Epoch 54/100\n",
      "371615/371615 [==============================] - 464s 1ms/step - loss: 5.6564e-04\n",
      "Epoch 55/100\n",
      "371615/371615 [==============================] - 462s 1ms/step - loss: 5.6283e-04\n",
      "Epoch 56/100\n",
      "371615/371615 [==============================] - 462s 1ms/step - loss: 5.6842e-04\n",
      "Epoch 57/100\n",
      "371615/371615 [==============================] - 462s 1ms/step - loss: 5.6192e-04\n",
      "Epoch 58/100\n",
      "371615/371615 [==============================] - 462s 1ms/step - loss: 5.6390e-04\n",
      "Epoch 59/100\n",
      "371615/371615 [==============================] - 462s 1ms/step - loss: 5.6507e-04\n",
      "Epoch 60/100\n",
      "371615/371615 [==============================] - 463s 1ms/step - loss: 5.6580e-04\n",
      "Epoch 61/100\n",
      "371615/371615 [==============================] - 462s 1ms/step - loss: 5.6237e-04\n",
      "Epoch 62/100\n",
      "371615/371615 [==============================] - 462s 1ms/step - loss: 5.6443e-04\n",
      "Epoch 63/100\n",
      "371615/371615 [==============================] - 462s 1ms/step - loss: 5.6403e-04\n",
      "Epoch 64/100\n",
      "371615/371615 [==============================] - 464s 1ms/step - loss: 5.6316e-04\n",
      "Epoch 65/100\n",
      "371615/371615 [==============================] - 463s 1ms/step - loss: 5.6462e-04\n",
      "Epoch 66/100\n",
      "371615/371615 [==============================] - 472s 1ms/step - loss: 5.6596e-04\n",
      "Epoch 67/100\n",
      "371615/371615 [==============================] - 433s 1ms/step - loss: 5.6172e-04\n",
      "Epoch 68/100\n",
      "371615/371615 [==============================] - 439s 1ms/step - loss: 5.6714e-04\n",
      "Epoch 69/100\n",
      "371615/371615 [==============================] - 433s 1ms/step - loss: 5.6145e-04\n",
      "Epoch 70/100\n",
      "371615/371615 [==============================] - 431s 1ms/step - loss: 5.6629e-04\n",
      "Epoch 71/100\n",
      "371615/371615 [==============================] - 431s 1ms/step - loss: 5.6324e-04\n",
      "Epoch 72/100\n",
      "371615/371615 [==============================] - 431s 1ms/step - loss: 5.6417e-04\n",
      "Epoch 73/100\n",
      "371615/371615 [==============================] - 430s 1ms/step - loss: 5.6259e-04\n",
      "Epoch 74/100\n",
      "371615/371615 [==============================] - 429s 1ms/step - loss: 5.6188e-04\n",
      "Epoch 75/100\n",
      "371615/371615 [==============================] - 432s 1ms/step - loss: 5.6070e-04\n",
      "Epoch 76/100\n",
      "371615/371615 [==============================] - 429s 1ms/step - loss: 5.6177e-04\n",
      "Epoch 77/100\n",
      "371615/371615 [==============================] - 430s 1ms/step - loss: 5.6202e-04\n",
      "Epoch 78/100\n",
      "371615/371615 [==============================] - 429s 1ms/step - loss: 5.6264e-04\n",
      "Epoch 79/100\n",
      "371615/371615 [==============================] - 431s 1ms/step - loss: 5.6183e-04\n",
      "Epoch 80/100\n",
      "371615/371615 [==============================] - 430s 1ms/step - loss: 5.5969e-04\n",
      "Epoch 81/100\n",
      "371615/371615 [==============================] - 435s 1ms/step - loss: 5.6376e-04\n",
      "Epoch 82/100\n",
      "371615/371615 [==============================] - 429s 1ms/step - loss: 5.6112e-04\n",
      "Epoch 83/100\n",
      "371615/371615 [==============================] - 432s 1ms/step - loss: 5.5927e-04\n",
      "Epoch 84/100\n",
      "371615/371615 [==============================] - 434s 1ms/step - loss: 5.6090e-04\n",
      "Epoch 85/100\n",
      "371615/371615 [==============================] - 430s 1ms/step - loss: 5.6343e-04\n",
      "Epoch 86/100\n",
      "371615/371615 [==============================] - 432s 1ms/step - loss: 5.6126e-04\n",
      "Epoch 87/100\n"
     ]
    },
    {
     "name": "stdout",
     "output_type": "stream",
     "text": [
      "371615/371615 [==============================] - 429s 1ms/step - loss: 5.6131e-04\n",
      "Epoch 88/100\n",
      "371615/371615 [==============================] - 428s 1ms/step - loss: 5.6269e-04\n",
      "Epoch 89/100\n",
      "371615/371615 [==============================] - 428s 1ms/step - loss: 5.5871e-04\n",
      "Epoch 90/100\n",
      "371615/371615 [==============================] - 427s 1ms/step - loss: 5.6099e-04\n",
      "Epoch 91/100\n",
      "371615/371615 [==============================] - 428s 1ms/step - loss: 5.6096e-04\n",
      "Epoch 92/100\n",
      "371615/371615 [==============================] - 428s 1ms/step - loss: 5.5995e-04\n",
      "Epoch 93/100\n",
      "371615/371615 [==============================] - 430s 1ms/step - loss: 5.5882e-04\n",
      "Epoch 94/100\n",
      "371615/371615 [==============================] - 462s 1ms/step - loss: 5.5860e-04\n",
      "Epoch 95/100\n",
      "371615/371615 [==============================] - 431s 1ms/step - loss: 5.6048e-04\n",
      "Epoch 96/100\n",
      "371615/371615 [==============================] - 430s 1ms/step - loss: 5.5698e-04\n",
      "Epoch 97/100\n",
      "371615/371615 [==============================] - 429s 1ms/step - loss: 5.6115e-04\n",
      "Epoch 98/100\n",
      "371615/371615 [==============================] - 431s 1ms/step - loss: 5.6081e-04\n",
      "Epoch 99/100\n",
      "371615/371615 [==============================] - 431s 1ms/step - loss: 5.6021e-04\n",
      "Epoch 100/100\n",
      "371615/371615 [==============================] - 441s 1ms/step - loss: 5.6110e-04\n"
     ]
    },
    {
     "data": {
      "text/plain": [
       "<keras.callbacks.History at 0x197392976d8>"
      ]
     },
     "execution_count": 12,
     "metadata": {},
     "output_type": "execute_result"
    }
   ],
   "source": [
    "regressor.compile(optimizer=OPTIMIZER,  loss=LOSS)\n",
    "regressor.fit(X_train, y_train, epochs=EPOCHS, batch_size=BATCH_SIZE)"
   ]
  },
  {
   "cell_type": "markdown",
   "metadata": {},
   "source": [
    "### Trying to setup testing on my own"
   ]
  },
  {
   "cell_type": "code",
   "execution_count": 13,
   "metadata": {},
   "outputs": [],
   "source": [
    "dataset_test = pd.read_csv(TESTING_YEAR+'.csv')\n",
    "\n",
    "# Restrict the dataset to either:  just prices\n",
    "testing_set = dataset_test.iloc[:,2:3]\n",
    "real_eur_price = testing_set.values"
   ]
  },
  {
   "cell_type": "code",
   "execution_count": 14,
   "metadata": {},
   "outputs": [
    {
     "data": {
      "text/plain": [
       "array([[1.20037],\n",
       "       [1.20083],\n",
       "       [1.20035],\n",
       "       ...,\n",
       "       [1.14642],\n",
       "       [1.14645],\n",
       "       [1.14671]])"
      ]
     },
     "execution_count": 14,
     "metadata": {},
     "output_type": "execute_result"
    }
   ],
   "source": [
    "real_eur_price"
   ]
  },
  {
   "cell_type": "markdown",
   "metadata": {},
   "source": [
    "#### Load the real fx data for the  testing set"
   ]
  },
  {
   "cell_type": "markdown",
   "metadata": {},
   "source": [
    "Save for later\n",
    "dataset_total = pd.concat( (dataset_train['OpenBid'],dataset_test['OpenBid']), axis=0)\n",
    "inputs = dataset_test[len(dataset_test)-SEQUENCE_TIMEPOINTS-60: ]"
   ]
  },
  {
   "cell_type": "markdown",
   "metadata": {},
   "source": [
    "#### Second: Scale and predict the data"
   ]
  },
  {
   "cell_type": "code",
   "execution_count": 15,
   "metadata": {},
   "outputs": [],
   "source": [
    "inputs = testing_set.values\n",
    "inputs = inputs.reshape(-1,1)\n",
    "inputs_backup=inputs.copy()    # Keep the unscalled version \n",
    "\n",
    "inputs = sc.transform(inputs)"
   ]
  },
  {
   "cell_type": "code",
   "execution_count": 16,
   "metadata": {},
   "outputs": [
    {
     "data": {
      "text/plain": [
       "372607"
      ]
     },
     "execution_count": 16,
     "metadata": {},
     "output_type": "execute_result"
    }
   ],
   "source": [
    "len(inputs)"
   ]
  },
  {
   "cell_type": "code",
   "execution_count": 17,
   "metadata": {},
   "outputs": [],
   "source": [
    "X_test = []\n",
    "real_eur = []\n",
    "for i in range(SEQUENCE_TIMEPOINTS+1, len(inputs)-1):\n",
    "    X_test.append(inputs[i-SEQUENCE_TIMEPOINTS:i, 0])\n",
    "    real_eur.append(inputs_backup[i,0])\n",
    "    \n",
    "\n",
    "X_test = np.array(X_test)\n",
    "\n",
    "#X_test\n"
   ]
  },
  {
   "cell_type": "code",
   "execution_count": 18,
   "metadata": {},
   "outputs": [],
   "source": [
    "X_test = np.reshape(X_test, (X_test.shape[0], X_test.shape[1], 1))"
   ]
  },
  {
   "cell_type": "code",
   "execution_count": 19,
   "metadata": {},
   "outputs": [],
   "source": [
    "predicted_eur = regressor.predict(X_test)\n",
    "# descale\n",
    "predicted_eur = sc.inverse_transform(predicted_eur)\n",
    "\n"
   ]
  },
  {
   "cell_type": "markdown",
   "metadata": {},
   "source": [
    "####  Visualize results"
   ]
  },
  {
   "cell_type": "code",
   "execution_count": 20,
   "metadata": {},
   "outputs": [
    {
     "data": {
      "image/png": "[encoded data removed]",
      "text/plain": [
       "<Figure size 432x288 with 1 Axes>"
      ]
     },
     "metadata": {
      "needs_background": "light"
     },
     "output_type": "display_data"
    }
   ],
   "source": [
    "plt.plot(real_eur[350000:360100], color='red', label='Real EUR')\n",
    "plt.plot(predicted_eur[350000:360100], color='blue', label='Predicted EUR')\n",
    "plt.title(\"EUR Predictions based on RNN Model\")\n",
    "plt.xlabel(\"Time\")\n",
    "plt.ylabel(\"EUR\")\n",
    "plt.show()"
   ]
  },
  {
   "cell_type": "markdown",
   "metadata": {},
   "source": [
    "#### Calculate ups and downs to previous minute"
   ]
  },
  {
   "cell_type": "code",
   "execution_count": 21,
   "metadata": {},
   "outputs": [
    {
     "name": "stdout",
     "output_type": "stream",
     "text": [
      "count_guess_correct_up:      16673\n",
      "count_guess_correct_down:    16122\n",
      "count_correct total:         32795\n",
      "\n",
      "count_guess_incorrect_up:    17439\n",
      "count_guess_incorrect_down:  17391\n",
      "count_incorrect total:       34830\n",
      "count_neither:               4960\n"
     ]
    }
   ],
   "source": [
    "\n",
    "count_guess_correct_up=0\n",
    "count_guess_correct_down=0\n",
    "count_guess_incorrect_up=0\n",
    "count_guess_incorrect_down=0\n",
    "count_neither=0\n",
    "for i in range(300000,len(real_eur)):\n",
    "    deltaReal=real_eur[i]-real_eur[i-1]\n",
    "    deltaPredict=predicted_eur[i]-predicted_eur[i-1]\n",
    "    if deltaReal>0 and deltaPredict>0:\n",
    "        count_guess_correct_up+=1\n",
    "    elif deltaReal>0 and deltaPredict<0:\n",
    "        count_guess_incorrect_up+=1\n",
    "    elif deltaReal<0 and deltaPredict<0:\n",
    "        count_guess_correct_down+=1\n",
    "    elif deltaReal<0 and deltaPredict>0:\n",
    "        count_guess_incorrect_down+=1\n",
    "    else:\n",
    "        count_neither+=1\n",
    "\n",
    "print('count_guess_correct_up:     ',count_guess_correct_up)\n",
    "print('count_guess_correct_down:   ',count_guess_correct_down)\n",
    "print('count_correct total:        ',count_guess_correct_up+count_guess_correct_down)\n",
    "print()\n",
    "print('count_guess_incorrect_up:   ',count_guess_incorrect_up)\n",
    "print('count_guess_incorrect_down: ',count_guess_incorrect_down)\n",
    "print('count_incorrect total:      ',count_guess_incorrect_up+count_guess_incorrect_down)\n",
    "\n",
    "print('count_neither:              ',count_neither)\n",
    "        \n",
    "    \n",
    "    "
   ]
  },
  {
   "cell_type": "code",
   "execution_count": null,
   "metadata": {},
   "outputs": [],
   "source": []
  }
 ],
 "metadata": {
  "kernelspec": {
   "display_name": "Python 3",
   "language": "python",
   "name": "python3"
  },
  "language_info": {
   "codemirror_mode": {
    "name": "ipython",
    "version": 3
   },
   "file_extension": ".py",
   "mimetype": "text/x-python",
   "name": "python",
   "nbconvert_exporter": "python",
   "pygments_lexer": "ipython3",
   "version": "3.6.7"
  }
 },
 "nbformat": 4,
 "nbformat_minor": 2
}
