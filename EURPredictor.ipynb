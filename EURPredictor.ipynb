{
 "cells": [
  {
   "cell_type": "markdown",
   "metadata": {},
   "source": [
    "# EUR Predictor"
   ]
  },
  {
   "cell_type": "markdown",
   "metadata": {},
   "source": [
    "Directory contains minute by minute prices of EUR/USD for the past 10 years (with the exception of 2014).  \n",
    "\n",
    "This Notebook will build a RNN Model to predict the movement of the EUR prices based of historical minute by minute data.\n",
    "\n",
    "Training and testing is easily separated by picking a year for training and another year for testing.  This, however, is not a great practice as training and testing sets are not equaly and randomly represented.  You will need to change the code to get better representation of training and testing.\n",
    "\n",
    "For the purposes of playing around, you can play with Hyperparameters to design your model.\n",
    "\n"
   ]
  },
  {
   "cell_type": "markdown",
   "metadata": {},
   "source": [
    "### Import the  libraries"
   ]
  },
  {
   "cell_type": "code",
   "execution_count": 78,
   "metadata": {},
   "outputs": [],
   "source": [
    "import numpy as np\n",
    "import matplotlib.pyplot as plt\n",
    "import pandas as pd\n"
   ]
  },
  {
   "cell_type": "markdown",
   "metadata": {},
   "source": [
    "### Defining Hyperparameters"
   ]
  },
  {
   "cell_type": "code",
   "execution_count": 105,
   "metadata": {},
   "outputs": [],
   "source": [
    "# Define the sequence of minutes you want to train on \n",
    "SEQUENCE_TIMEPOINTS = 20  # 5-50   \n",
    "\n",
    "# Define how many LSTM Cells you need to have per each Layer\n",
    "LSTM_UNITS = 40 \n",
    "\n",
    "# Single Layer will be an LSTM Layer, combined with Dropout layer\n",
    "# Define how many of these you want to have stacked (minimum of 2 needed)\n",
    "LSTM_LAYERS = 4\n",
    "DROPOUT_RATE = 0.3\n",
    "\n",
    "EPOCHS = 100\n",
    "BATCH_SIZE = 32\n",
    "\n",
    "OPTIMIZER = 'adam'\n",
    "LOSS = 'mean_squared_error'\n",
    "\n",
    "# Training and Testing\n",
    "# Pick a year for Training and a year for Testing.  This is just a suggested easy way\n",
    "# to demonstrate the process.  To build a better model, you will need to mix things around\n",
    "# and randomly chose testing sequences (maybe with a mod function), this will be a better \n",
    "# sampling for both training and test data\n",
    "TRAINING_YEAR='2018'\n",
    "TESTING_YEAR='2017'"
   ]
  },
  {
   "cell_type": "markdown",
   "metadata": {},
   "source": [
    "### Load the data"
   ]
  },
  {
   "cell_type": "markdown",
   "metadata": {},
   "source": [
    "Data is orgainized in csv files marked by a year, containing minute by minute price information"
   ]
  },
  {
   "cell_type": "code",
   "execution_count": 106,
   "metadata": {},
   "outputs": [],
   "source": [
    "dataset_train = pd.read_csv(TRAINING_YEAR+'.csv')\n",
    "\n",
    "# Restrict the dataset to either:  just prices\n",
    "training_set = dataset_train.iloc[:,2:3]\n",
    "\n",
    "# or Date, time, and pricess, if you want to train on all 3\n",
    "#   this is if you want to derive some good info from the date/time like:\n",
    "#    month of the year, time of day, day in the week, weekend or not, etc\n",
    "# training_set = dataset_train.iloc[:,2:3]\n"
   ]
  },
  {
   "cell_type": "code",
   "execution_count": 107,
   "metadata": {},
   "outputs": [
    {
     "data": {
      "text/html": [
       "<div>\n",
       "<style scoped>\n",
       "    .dataframe tbody tr th:only-of-type {\n",
       "        vertical-align: middle;\n",
       "    }\n",
       "\n",
       "    .dataframe tbody tr th {\n",
       "        vertical-align: top;\n",
       "    }\n",
       "\n",
       "    .dataframe thead th {\n",
       "        text-align: right;\n",
       "    }\n",
       "</style>\n",
       "<table border=\"1\" class=\"dataframe\">\n",
       "  <thead>\n",
       "    <tr style=\"text-align: right;\">\n",
       "      <th></th>\n",
       "      <th>OpenBid</th>\n",
       "    </tr>\n",
       "  </thead>\n",
       "  <tbody>\n",
       "    <tr>\n",
       "      <th>0</th>\n",
       "      <td>1.20037</td>\n",
       "    </tr>\n",
       "    <tr>\n",
       "      <th>1</th>\n",
       "      <td>1.20083</td>\n",
       "    </tr>\n",
       "    <tr>\n",
       "      <th>2</th>\n",
       "      <td>1.20035</td>\n",
       "    </tr>\n",
       "    <tr>\n",
       "      <th>3</th>\n",
       "      <td>1.20041</td>\n",
       "    </tr>\n",
       "    <tr>\n",
       "      <th>4</th>\n",
       "      <td>1.20049</td>\n",
       "    </tr>\n",
       "    <tr>\n",
       "      <th>5</th>\n",
       "      <td>1.20050</td>\n",
       "    </tr>\n",
       "    <tr>\n",
       "      <th>6</th>\n",
       "      <td>1.20050</td>\n",
       "    </tr>\n",
       "    <tr>\n",
       "      <th>7</th>\n",
       "      <td>1.20048</td>\n",
       "    </tr>\n",
       "    <tr>\n",
       "      <th>8</th>\n",
       "      <td>1.20051</td>\n",
       "    </tr>\n",
       "    <tr>\n",
       "      <th>9</th>\n",
       "      <td>1.20082</td>\n",
       "    </tr>\n",
       "    <tr>\n",
       "      <th>10</th>\n",
       "      <td>1.20094</td>\n",
       "    </tr>\n",
       "    <tr>\n",
       "      <th>11</th>\n",
       "      <td>1.20084</td>\n",
       "    </tr>\n",
       "    <tr>\n",
       "      <th>12</th>\n",
       "      <td>1.20088</td>\n",
       "    </tr>\n",
       "    <tr>\n",
       "      <th>13</th>\n",
       "      <td>1.20080</td>\n",
       "    </tr>\n",
       "    <tr>\n",
       "      <th>14</th>\n",
       "      <td>1.20077</td>\n",
       "    </tr>\n",
       "    <tr>\n",
       "      <th>15</th>\n",
       "      <td>1.20092</td>\n",
       "    </tr>\n",
       "    <tr>\n",
       "      <th>16</th>\n",
       "      <td>1.20038</td>\n",
       "    </tr>\n",
       "    <tr>\n",
       "      <th>17</th>\n",
       "      <td>1.20039</td>\n",
       "    </tr>\n",
       "    <tr>\n",
       "      <th>18</th>\n",
       "      <td>1.20042</td>\n",
       "    </tr>\n",
       "    <tr>\n",
       "      <th>19</th>\n",
       "      <td>1.20041</td>\n",
       "    </tr>\n",
       "    <tr>\n",
       "      <th>20</th>\n",
       "      <td>1.20053</td>\n",
       "    </tr>\n",
       "    <tr>\n",
       "      <th>21</th>\n",
       "      <td>1.20045</td>\n",
       "    </tr>\n",
       "    <tr>\n",
       "      <th>22</th>\n",
       "      <td>1.20045</td>\n",
       "    </tr>\n",
       "    <tr>\n",
       "      <th>23</th>\n",
       "      <td>1.20055</td>\n",
       "    </tr>\n",
       "    <tr>\n",
       "      <th>24</th>\n",
       "      <td>1.20045</td>\n",
       "    </tr>\n",
       "    <tr>\n",
       "      <th>25</th>\n",
       "      <td>1.20051</td>\n",
       "    </tr>\n",
       "    <tr>\n",
       "      <th>26</th>\n",
       "      <td>1.20044</td>\n",
       "    </tr>\n",
       "    <tr>\n",
       "      <th>27</th>\n",
       "      <td>1.20042</td>\n",
       "    </tr>\n",
       "    <tr>\n",
       "      <th>28</th>\n",
       "      <td>1.20064</td>\n",
       "    </tr>\n",
       "    <tr>\n",
       "      <th>29</th>\n",
       "      <td>1.20064</td>\n",
       "    </tr>\n",
       "    <tr>\n",
       "      <th>...</th>\n",
       "      <td>...</td>\n",
       "    </tr>\n",
       "    <tr>\n",
       "      <th>372577</th>\n",
       "      <td>1.14622</td>\n",
       "    </tr>\n",
       "    <tr>\n",
       "      <th>372578</th>\n",
       "      <td>1.14636</td>\n",
       "    </tr>\n",
       "    <tr>\n",
       "      <th>372579</th>\n",
       "      <td>1.14658</td>\n",
       "    </tr>\n",
       "    <tr>\n",
       "      <th>372580</th>\n",
       "      <td>1.14641</td>\n",
       "    </tr>\n",
       "    <tr>\n",
       "      <th>372581</th>\n",
       "      <td>1.14648</td>\n",
       "    </tr>\n",
       "    <tr>\n",
       "      <th>372582</th>\n",
       "      <td>1.14652</td>\n",
       "    </tr>\n",
       "    <tr>\n",
       "      <th>372583</th>\n",
       "      <td>1.14646</td>\n",
       "    </tr>\n",
       "    <tr>\n",
       "      <th>372584</th>\n",
       "      <td>1.14633</td>\n",
       "    </tr>\n",
       "    <tr>\n",
       "      <th>372585</th>\n",
       "      <td>1.14631</td>\n",
       "    </tr>\n",
       "    <tr>\n",
       "      <th>372586</th>\n",
       "      <td>1.14626</td>\n",
       "    </tr>\n",
       "    <tr>\n",
       "      <th>372587</th>\n",
       "      <td>1.14633</td>\n",
       "    </tr>\n",
       "    <tr>\n",
       "      <th>372588</th>\n",
       "      <td>1.14625</td>\n",
       "    </tr>\n",
       "    <tr>\n",
       "      <th>372589</th>\n",
       "      <td>1.14623</td>\n",
       "    </tr>\n",
       "    <tr>\n",
       "      <th>372590</th>\n",
       "      <td>1.14626</td>\n",
       "    </tr>\n",
       "    <tr>\n",
       "      <th>372591</th>\n",
       "      <td>1.14605</td>\n",
       "    </tr>\n",
       "    <tr>\n",
       "      <th>372592</th>\n",
       "      <td>1.14600</td>\n",
       "    </tr>\n",
       "    <tr>\n",
       "      <th>372593</th>\n",
       "      <td>1.14610</td>\n",
       "    </tr>\n",
       "    <tr>\n",
       "      <th>372594</th>\n",
       "      <td>1.14604</td>\n",
       "    </tr>\n",
       "    <tr>\n",
       "      <th>372595</th>\n",
       "      <td>1.14610</td>\n",
       "    </tr>\n",
       "    <tr>\n",
       "      <th>372596</th>\n",
       "      <td>1.14608</td>\n",
       "    </tr>\n",
       "    <tr>\n",
       "      <th>372597</th>\n",
       "      <td>1.14604</td>\n",
       "    </tr>\n",
       "    <tr>\n",
       "      <th>372598</th>\n",
       "      <td>1.14610</td>\n",
       "    </tr>\n",
       "    <tr>\n",
       "      <th>372599</th>\n",
       "      <td>1.14617</td>\n",
       "    </tr>\n",
       "    <tr>\n",
       "      <th>372600</th>\n",
       "      <td>1.14617</td>\n",
       "    </tr>\n",
       "    <tr>\n",
       "      <th>372601</th>\n",
       "      <td>1.14621</td>\n",
       "    </tr>\n",
       "    <tr>\n",
       "      <th>372602</th>\n",
       "      <td>1.14631</td>\n",
       "    </tr>\n",
       "    <tr>\n",
       "      <th>372603</th>\n",
       "      <td>1.14637</td>\n",
       "    </tr>\n",
       "    <tr>\n",
       "      <th>372604</th>\n",
       "      <td>1.14642</td>\n",
       "    </tr>\n",
       "    <tr>\n",
       "      <th>372605</th>\n",
       "      <td>1.14645</td>\n",
       "    </tr>\n",
       "    <tr>\n",
       "      <th>372606</th>\n",
       "      <td>1.14671</td>\n",
       "    </tr>\n",
       "  </tbody>\n",
       "</table>\n",
       "<p>372607 rows × 1 columns</p>\n",
       "</div>"
      ],
      "text/plain": [
       "        OpenBid\n",
       "0       1.20037\n",
       "1       1.20083\n",
       "2       1.20035\n",
       "3       1.20041\n",
       "4       1.20049\n",
       "5       1.20050\n",
       "6       1.20050\n",
       "7       1.20048\n",
       "8       1.20051\n",
       "9       1.20082\n",
       "10      1.20094\n",
       "11      1.20084\n",
       "12      1.20088\n",
       "13      1.20080\n",
       "14      1.20077\n",
       "15      1.20092\n",
       "16      1.20038\n",
       "17      1.20039\n",
       "18      1.20042\n",
       "19      1.20041\n",
       "20      1.20053\n",
       "21      1.20045\n",
       "22      1.20045\n",
       "23      1.20055\n",
       "24      1.20045\n",
       "25      1.20051\n",
       "26      1.20044\n",
       "27      1.20042\n",
       "28      1.20064\n",
       "29      1.20064\n",
       "...         ...\n",
       "372577  1.14622\n",
       "372578  1.14636\n",
       "372579  1.14658\n",
       "372580  1.14641\n",
       "372581  1.14648\n",
       "372582  1.14652\n",
       "372583  1.14646\n",
       "372584  1.14633\n",
       "372585  1.14631\n",
       "372586  1.14626\n",
       "372587  1.14633\n",
       "372588  1.14625\n",
       "372589  1.14623\n",
       "372590  1.14626\n",
       "372591  1.14605\n",
       "372592  1.14600\n",
       "372593  1.14610\n",
       "372594  1.14604\n",
       "372595  1.14610\n",
       "372596  1.14608\n",
       "372597  1.14604\n",
       "372598  1.14610\n",
       "372599  1.14617\n",
       "372600  1.14617\n",
       "372601  1.14621\n",
       "372602  1.14631\n",
       "372603  1.14637\n",
       "372604  1.14642\n",
       "372605  1.14645\n",
       "372606  1.14671\n",
       "\n",
       "[372607 rows x 1 columns]"
      ]
     },
     "execution_count": 107,
     "metadata": {},
     "output_type": "execute_result"
    }
   ],
   "source": [
    "training_set"
   ]
  },
  {
   "cell_type": "markdown",
   "metadata": {},
   "source": [
    "### Feature scaling"
   ]
  },
  {
   "cell_type": "markdown",
   "metadata": {},
   "source": [
    "Best thing is to scale the prices from 0 to 1"
   ]
  },
  {
   "cell_type": "code",
   "execution_count": 108,
   "metadata": {},
   "outputs": [],
   "source": [
    "from sklearn.preprocessing import MinMaxScaler\n",
    "sc = MinMaxScaler(feature_range = (0,1))\n",
    "training_set_scaled =sc.fit_transform(training_set)"
   ]
  },
  {
   "cell_type": "code",
   "execution_count": 109,
   "metadata": {},
   "outputs": [
    {
     "data": {
      "text/plain": [
       "array([[0.58856075],\n",
       "       [0.592     ],\n",
       "       [0.58841121],\n",
       "       ...,\n",
       "       [0.18519626],\n",
       "       [0.18542056],\n",
       "       [0.18736449]])"
      ]
     },
     "execution_count": 109,
     "metadata": {},
     "output_type": "execute_result"
    }
   ],
   "source": [
    "training_set_scaled "
   ]
  },
  {
   "cell_type": "markdown",
   "metadata": {},
   "source": [
    "### Creating a data structure for training"
   ]
  },
  {
   "cell_type": "markdown",
   "metadata": {},
   "source": [
    "Each data point will have previous number of points for RNN training"
   ]
  },
  {
   "cell_type": "code",
   "execution_count": 110,
   "metadata": {},
   "outputs": [],
   "source": [
    "X_train = []\n",
    "y_train = []\n",
    "for i in range(SEQUENCE_TIMEPOINTS, len(training_set_scaled)):\n",
    "    X_train.append(training_set_scaled[i-SEQUENCE_TIMEPOINTS:i,0])\n",
    "    y_train.append(training_set_scaled[i,0])\n",
    "X_train = np.array(X_train)\n",
    "y_train = np.array(y_train)\n",
    "\n",
    "X_train = np.reshape(X_train, (X_train.shape[0], X_train.shape[1], 1))"
   ]
  },
  {
   "cell_type": "markdown",
   "metadata": {},
   "source": [
    "### Build the RNN"
   ]
  },
  {
   "cell_type": "code",
   "execution_count": 111,
   "metadata": {},
   "outputs": [],
   "source": [
    "from keras.models import Sequential\n",
    "from keras.layers import Dense\n",
    "from keras.layers import LSTM\n",
    "from keras.layers import Dropout\n"
   ]
  },
  {
   "cell_type": "code",
   "execution_count": 112,
   "metadata": {},
   "outputs": [],
   "source": [
    "regressor = Sequential()\n",
    "\n",
    "# Layer 1\n",
    "regressor.add(LSTM(units=LSTM_UNITS, return_sequences=True, input_shape = (X_train.shape[1], 1)))\n",
    "regressor.add(Dropout(DROPOUT_RATE))\n",
    "\n",
    "# Layer 2 to n-1\n",
    "for i in range(LSTM_LAYERS-2):\n",
    "    regressor.add(LSTM(units=LSTM_UNITS, return_sequences=True))\n",
    "    regressor.add(Dropout(DROPOUT_RATE))\n",
    "\n",
    "# Last LSTM Layer\n",
    "regressor.add(LSTM(units=LSTM_UNITS))\n",
    "regressor.add(Dropout(DROPOUT_RATE))\n",
    "\n",
    "# Last layer to predict -  Only one Item to predict - EURO price at time\n",
    "regressor.add(Dense(units = 1))"
   ]
  },
  {
   "cell_type": "markdown",
   "metadata": {},
   "source": [
    "#### Show what model looks like"
   ]
  },
  {
   "cell_type": "code",
   "execution_count": 113,
   "metadata": {},
   "outputs": [
    {
     "name": "stdout",
     "output_type": "stream",
     "text": [
      "_________________________________________________________________\n",
      "Layer (type)                 Output Shape              Param #   \n",
      "=================================================================\n",
      "lstm_8 (LSTM)                (None, 2, 4)              96        \n",
      "_________________________________________________________________\n",
      "dropout_8 (Dropout)          (None, 2, 4)              0         \n",
      "_________________________________________________________________\n",
      "lstm_9 (LSTM)                (None, 4)                 144       \n",
      "_________________________________________________________________\n",
      "dropout_9 (Dropout)          (None, 4)                 0         \n",
      "_________________________________________________________________\n",
      "dense_3 (Dense)              (None, 1)                 5         \n",
      "=================================================================\n",
      "Total params: 245\n",
      "Trainable params: 245\n",
      "Non-trainable params: 0\n",
      "_________________________________________________________________\n"
     ]
    }
   ],
   "source": [
    "regressor.summary()"
   ]
  },
  {
   "cell_type": "markdown",
   "metadata": {},
   "source": [
    "#### Set some hyperparameters and train "
   ]
  },
  {
   "cell_type": "code",
   "execution_count": 114,
   "metadata": {},
   "outputs": [
    {
     "name": "stdout",
     "output_type": "stream",
     "text": [
      "Epoch 1/100\n",
      "372605/372605 [==============================] - 33s 88us/step - loss: 0.0236\n",
      "Epoch 2/100\n",
      "372605/372605 [==============================] - 34s 90us/step - loss: 0.0187\n",
      "Epoch 3/100\n",
      "372605/372605 [==============================] - 41s 109us/step - loss: 0.0185\n",
      "Epoch 4/100\n",
      "372605/372605 [==============================] - 41s 110us/step - loss: 0.0183\n",
      "Epoch 5/100\n",
      "372605/372605 [==============================] - 40s 108us/step - loss: 0.0182\n",
      "Epoch 6/100\n",
      "372605/372605 [==============================] - 41s 111us/step - loss: 0.0181\n",
      "Epoch 7/100\n",
      "372605/372605 [==============================] - ETA: 0s - loss: 0.017 - 45s 120us/step - loss: 0.0179\n",
      "Epoch 8/100\n",
      "372605/372605 [==============================] - 43s 115us/step - loss: 0.0175\n",
      "Epoch 9/100\n",
      "372605/372605 [==============================] - 44s 117us/step - loss: 0.0174\n",
      "Epoch 10/100\n",
      "372605/372605 [==============================] - 45s 120us/step - loss: 0.0174\n",
      "Epoch 11/100\n",
      "372605/372605 [==============================] - 46s 122us/step - loss: 0.0174\n",
      "Epoch 12/100\n",
      "372605/372605 [==============================] - 47s 126us/step - loss: 0.0172\n",
      "Epoch 13/100\n",
      "372605/372605 [==============================] - 46s 124us/step - loss: 0.0173\n",
      "Epoch 14/100\n",
      "372605/372605 [==============================] - 46s 123us/step - loss: 0.0172\n",
      "Epoch 15/100\n",
      "372605/372605 [==============================] - 46s 123us/step - loss: 0.0173\n",
      "Epoch 16/100\n",
      "372605/372605 [==============================] - 46s 123us/step - loss: 0.0171\n",
      "Epoch 17/100\n",
      "372605/372605 [==============================] - 40s 109us/step - loss: 0.0171\n",
      "Epoch 18/100\n",
      "372605/372605 [==============================] - 41s 111us/step - loss: 0.0171\n",
      "Epoch 19/100\n",
      "372605/372605 [==============================] - 42s 112us/step - loss: 0.0170\n",
      "Epoch 20/100\n",
      "372605/372605 [==============================] - 41s 109us/step - loss: 0.0170\n",
      "Epoch 21/100\n",
      "372605/372605 [==============================] - 41s 110us/step - loss: 0.0170\n",
      "Epoch 22/100\n",
      "372605/372605 [==============================] - 40s 108us/step - loss: 0.0169\n",
      "Epoch 23/100\n",
      "372605/372605 [==============================] - 40s 109us/step - loss: 0.0169\n",
      "Epoch 24/100\n",
      "372605/372605 [==============================] - 49s 131us/step - loss: 0.0170\n",
      "Epoch 25/100\n",
      "372605/372605 [==============================] - 42s 111us/step - loss: 0.0169\n",
      "Epoch 26/100\n",
      "372605/372605 [==============================] - 40s 107us/step - loss: 0.0169\n",
      "Epoch 27/100\n",
      "372605/372605 [==============================] - 41s 109us/step - loss: 0.0169\n",
      "Epoch 28/100\n",
      "372605/372605 [==============================] - 41s 109us/step - loss: 0.0169\n",
      "Epoch 29/100\n",
      "372605/372605 [==============================] - 40s 107us/step - loss: 0.0169\n",
      "Epoch 30/100\n",
      "372605/372605 [==============================] - 40s 108us/step - loss: 0.0169\n",
      "Epoch 31/100\n",
      "372605/372605 [==============================] - 42s 112us/step - loss: 0.0169\n",
      "Epoch 32/100\n",
      "372605/372605 [==============================] - 40s 109us/step - loss: 0.0169\n",
      "Epoch 33/100\n",
      "372605/372605 [==============================] - 41s 109us/step - loss: 0.0168\n",
      "Epoch 34/100\n",
      "372605/372605 [==============================] - 41s 109us/step - loss: 0.0168\n",
      "Epoch 35/100\n",
      "372605/372605 [==============================] - 40s 108us/step - loss: 0.0168\n",
      "Epoch 36/100\n",
      "372605/372605 [==============================] - 41s 109us/step - loss: 0.0168\n",
      "Epoch 37/100\n",
      "372605/372605 [==============================] - 41s 110us/step - loss: 0.0167\n",
      "Epoch 38/100\n",
      "372605/372605 [==============================] - 40s 107us/step - loss: 0.0168\n",
      "Epoch 39/100\n",
      "372605/372605 [==============================] - 41s 111us/step - loss: 0.0167\n",
      "Epoch 40/100\n",
      "372605/372605 [==============================] - 41s 109us/step - loss: 0.0168\n",
      "Epoch 41/100\n",
      "372605/372605 [==============================] - 40s 108us/step - loss: 0.0167\n",
      "Epoch 42/100\n",
      "372605/372605 [==============================] - 40s 108us/step - loss: 0.0167\n",
      "Epoch 43/100\n",
      "372605/372605 [==============================] - 41s 109us/step - loss: 0.0167\n",
      "Epoch 44/100\n",
      "372605/372605 [==============================] - 40s 108us/step - loss: 0.0166\n",
      "Epoch 45/100\n",
      "372605/372605 [==============================] - 40s 108us/step - loss: 0.0166\n",
      "Epoch 46/100\n",
      "372605/372605 [==============================] - 41s 110us/step - loss: 0.0166\n",
      "Epoch 47/100\n",
      "372605/372605 [==============================] - 40s 108us/step - loss: 0.0166\n",
      "Epoch 48/100\n",
      "372605/372605 [==============================] - 41s 110us/step - loss: 0.0165\n",
      "Epoch 49/100\n",
      "372605/372605 [==============================] - 41s 109us/step - loss: 0.0166\n",
      "Epoch 50/100\n",
      "372605/372605 [==============================] - 40s 109us/step - loss: 0.0166\n",
      "Epoch 51/100\n",
      "372605/372605 [==============================] - 40s 108us/step - loss: 0.0165\n",
      "Epoch 52/100\n",
      "372605/372605 [==============================] - 41s 109us/step - loss: 0.0166\n",
      "Epoch 53/100\n",
      "372605/372605 [==============================] - 42s 113us/step - loss: 0.0165\n",
      "Epoch 54/100\n",
      "372605/372605 [==============================] - 40s 108us/step - loss: 0.0165\n",
      "Epoch 55/100\n",
      "372605/372605 [==============================] - 41s 109us/step - loss: 0.0165\n",
      "Epoch 56/100\n",
      "372605/372605 [==============================] - 41s 109us/step - loss: 0.0165\n",
      "Epoch 57/100\n",
      "372605/372605 [==============================] - 40s 108us/step - loss: 0.0165\n",
      "Epoch 58/100\n",
      "372605/372605 [==============================] - 40s 109us/step - loss: 0.0165\n",
      "Epoch 59/100\n",
      "372605/372605 [==============================] - 40s 108us/step - loss: 0.0165\n",
      "Epoch 60/100\n",
      "372605/372605 [==============================] - 40s 107us/step - loss: 0.0165\n",
      "Epoch 61/100\n",
      "372605/372605 [==============================] - 41s 110us/step - loss: 0.0165\n",
      "Epoch 62/100\n",
      "372605/372605 [==============================] - 41s 110us/step - loss: 0.0165\n",
      "Epoch 63/100\n",
      "372605/372605 [==============================] - 40s 108us/step - loss: 0.0164\n",
      "Epoch 64/100\n",
      "372605/372605 [==============================] - 41s 110us/step - loss: 0.0165\n",
      "Epoch 65/100\n",
      "372605/372605 [==============================] - 41s 109us/step - loss: 0.0164\n",
      "Epoch 66/100\n",
      "372605/372605 [==============================] - 40s 106us/step - loss: 0.0164\n",
      "Epoch 67/100\n",
      "372605/372605 [==============================] - 40s 109us/step - loss: 0.0165\n",
      "Epoch 68/100\n",
      "372605/372605 [==============================] - 40s 108us/step - loss: 0.0164\n",
      "Epoch 69/100\n",
      "372605/372605 [==============================] - 41s 109us/step - loss: 0.0164\n",
      "Epoch 70/100\n",
      "372605/372605 [==============================] - 41s 110us/step - loss: 0.0164\n",
      "Epoch 71/100\n",
      "372605/372605 [==============================] - 41s 109us/step - loss: 0.0165\n",
      "Epoch 72/100\n",
      "372605/372605 [==============================] - 40s 107us/step - loss: 0.0164\n",
      "Epoch 73/100\n",
      "372605/372605 [==============================] - 40s 109us/step - loss: 0.0164\n",
      "Epoch 74/100\n",
      "372605/372605 [==============================] - 41s 110us/step - loss: 0.0165\n",
      "Epoch 75/100\n",
      "372605/372605 [==============================] - 41s 109us/step - loss: 0.0164\n",
      "Epoch 76/100\n",
      "372605/372605 [==============================] - 41s 110us/step - loss: 0.0164\n",
      "Epoch 77/100\n",
      "372605/372605 [==============================] - 42s 114us/step - loss: 0.0164\n",
      "Epoch 78/100\n",
      "372605/372605 [==============================] - 46s 124us/step - loss: 0.0165\n",
      "Epoch 79/100\n",
      "372605/372605 [==============================] - 41s 110us/step - loss: 0.0165\n",
      "Epoch 80/100\n",
      "372605/372605 [==============================] - 44s 117us/step - loss: 0.0164\n",
      "Epoch 81/100\n",
      "372605/372605 [==============================] - 54s 145us/step - loss: 0.0164\n",
      "Epoch 82/100\n",
      "372605/372605 [==============================] - 46s 122us/step - loss: 0.0164\n",
      "Epoch 83/100\n",
      "372605/372605 [==============================] - 43s 116us/step - loss: 0.0164\n",
      "Epoch 84/100\n",
      "372605/372605 [==============================] - 44s 118us/step - loss: 0.0164\n",
      "Epoch 85/100\n",
      "372605/372605 [==============================] - 47s 126us/step - loss: 0.0164\n",
      "Epoch 86/100\n",
      "372605/372605 [==============================] - 44s 118us/step - loss: 0.0163\n",
      "Epoch 87/100\n",
      "372605/372605 [==============================] - 42s 113us/step - loss: 0.0164\n",
      "Epoch 88/100\n",
      "372605/372605 [==============================] - 42s 113us/step - loss: 0.0164\n",
      "Epoch 89/100\n"
     ]
    },
    {
     "name": "stdout",
     "output_type": "stream",
     "text": [
      "372605/372605 [==============================] - 44s 118us/step - loss: 0.0165\n",
      "Epoch 90/100\n",
      "372605/372605 [==============================] - 45s 121us/step - loss: 0.0164\n",
      "Epoch 91/100\n",
      "372605/372605 [==============================] - 43s 116us/step - loss: 0.0164\n",
      "Epoch 92/100\n",
      "372605/372605 [==============================] - 46s 124us/step - loss: 0.0164\n",
      "Epoch 93/100\n",
      "372605/372605 [==============================] - 45s 120us/step - loss: 0.0164\n",
      "Epoch 94/100\n",
      "372605/372605 [==============================] - 44s 117us/step - loss: 0.0163\n",
      "Epoch 95/100\n",
      "372605/372605 [==============================] - 43s 114us/step - loss: 0.0163\n",
      "Epoch 96/100\n",
      "372605/372605 [==============================] - 44s 117us/step - loss: 0.0164\n",
      "Epoch 97/100\n",
      "372605/372605 [==============================] - 43s 115us/step - loss: 0.0164\n",
      "Epoch 98/100\n",
      "372605/372605 [==============================] - 41s 110us/step - loss: 0.0163\n",
      "Epoch 99/100\n",
      "372605/372605 [==============================] - 42s 112us/step - loss: 0.0164\n",
      "Epoch 100/100\n",
      "372605/372605 [==============================] - 42s 112us/step - loss: 0.0163\n"
     ]
    },
    {
     "data": {
      "text/plain": [
       "<keras.callbacks.History at 0x27398251a90>"
      ]
     },
     "execution_count": 114,
     "metadata": {},
     "output_type": "execute_result"
    }
   ],
   "source": [
    "regressor.compile(optimizer=OPTIMIZER,  loss=LOSS)\n",
    "regressor.fit(X_train, y_train, epochs=EPOCHS, batch_size=BATCH_SIZE)"
   ]
  },
  {
   "cell_type": "markdown",
   "metadata": {},
   "source": [
    "### Trying to setup testing on my own"
   ]
  },
  {
   "cell_type": "code",
   "execution_count": 103,
   "metadata": {},
   "outputs": [],
   "source": [
    "dataset_test = pd.read_csv(TESTING_YEAR+'.csv')\n",
    "\n",
    "# Restrict the dataset to either:  just prices\n",
    "testing_set = dataset_test.iloc[:,2:3]\n",
    "real_eur_price = testing_set.values"
   ]
  },
  {
   "cell_type": "code",
   "execution_count": 104,
   "metadata": {},
   "outputs": [
    {
     "data": {
      "text/plain": [
       "array([[1.05155],\n",
       "       [1.05209],\n",
       "       [1.05177],\n",
       "       ...,\n",
       "       [1.19969],\n",
       "       [1.20009],\n",
       "       [1.19982]])"
      ]
     },
     "execution_count": 104,
     "metadata": {},
     "output_type": "execute_result"
    }
   ],
   "source": [
    "real_eur_price"
   ]
  },
  {
   "cell_type": "markdown",
   "metadata": {},
   "source": [
    "#### Load the real fx data for the  testing set"
   ]
  },
  {
   "cell_type": "markdown",
   "metadata": {},
   "source": [
    "Save for later\n",
    "dataset_total = pd.concat( (dataset_train['OpenBid'],dataset_test['OpenBid']), axis=0)\n",
    "inputs = dataset_test[len(dataset_test)-SEQUENCE_TIMEPOINTS-60: ]"
   ]
  },
  {
   "cell_type": "markdown",
   "metadata": {},
   "source": [
    "#### Second: Scale and predict the data"
   ]
  },
  {
   "cell_type": "code",
   "execution_count": 58,
   "metadata": {},
   "outputs": [],
   "source": [
    "inputs = testing_set.values\n",
    "inputs = inputs.reshape(-1,1)\n",
    "inputs_backup=inputs.copy()    # Keep the unscalled version \n",
    "\n",
    "inputs = sc.transform(inputs)"
   ]
  },
  {
   "cell_type": "code",
   "execution_count": 59,
   "metadata": {},
   "outputs": [
    {
     "data": {
      "text/plain": [
       "371635"
      ]
     },
     "execution_count": 59,
     "metadata": {},
     "output_type": "execute_result"
    }
   ],
   "source": [
    "len(inputs)"
   ]
  },
  {
   "cell_type": "code",
   "execution_count": 61,
   "metadata": {},
   "outputs": [],
   "source": [
    "X_test = []\n",
    "real_eur = []\n",
    "for i in range(SEQUENCE_TIMEPOINTS+1, len(inputs)-1):\n",
    "    X_test.append(inputs[i-SEQUENCE_TIMEPOINTS:i, 0])\n",
    "    real_eur.append(inputs_backup[i,0])\n",
    "    \n",
    "\n",
    "X_test = np.array(X_test)\n",
    "\n",
    "#X_test\n"
   ]
  },
  {
   "cell_type": "code",
   "execution_count": 52,
   "metadata": {},
   "outputs": [],
   "source": [
    "X_test = np.reshape(X_test, (X_test.shape[0], X_test.shape[1], 1))"
   ]
  },
  {
   "cell_type": "code",
   "execution_count": 53,
   "metadata": {},
   "outputs": [],
   "source": [
    "predicted_eur = regressor.predict(X_test)\n",
    "# descale\n",
    "predicted_eur = sc.inverse_transform(predicted_eur)\n",
    "\n"
   ]
  },
  {
   "cell_type": "markdown",
   "metadata": {},
   "source": [
    "####  Visualize results"
   ]
  },
  {
   "cell_type": "code",
   "execution_count": 77,
   "metadata": {},
   "outputs": [
    {
     "data": {
      "image/png": "[encoded data removed]",
      "text/plain": [
       "<Figure size 432x288 with 1 Axes>"
      ]
     },
     "metadata": {
      "needs_background": "light"
     },
     "output_type": "display_data"
    }
   ],
   "source": [
    "plt.plot(real_eur[360000:360020], color='red', label='Real EUR')\n",
    "plt.plot(predicted_eur[360000:360020], color='blue', label='Predicted EUR')\n",
    "plt.title(\"EUR Predictions based on RNN Model\")\n",
    "plt.xlabel(\"Time\")\n",
    "plt.ylabel(\"EUR\")\n",
    "plt.show()"
   ]
  },
  {
   "cell_type": "code",
   "execution_count": null,
   "metadata": {},
   "outputs": [],
   "source": []
  }
 ],
 "metadata": {
  "kernelspec": {
   "display_name": "Python 3",
   "language": "python",
   "name": "python3"
  },
  "language_info": {
   "codemirror_mode": {
    "name": "ipython",
    "version": 3
   },
   "file_extension": ".py",
   "mimetype": "text/x-python",
   "name": "python",
   "nbconvert_exporter": "python",
   "pygments_lexer": "ipython3",
   "version": "3.6.7"
  }
 },
 "nbformat": 4,
 "nbformat_minor": 2
}
